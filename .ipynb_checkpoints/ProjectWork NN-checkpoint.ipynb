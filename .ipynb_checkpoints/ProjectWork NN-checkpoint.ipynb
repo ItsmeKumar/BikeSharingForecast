{
 "cells": [
  {
   "cell_type": "code",
   "execution_count": 9,
   "metadata": {
    "collapsed": true
   },
   "outputs": [],
   "source": [
    "import numpy as np\n",
    "import pandas as pd\n",
    "import tensorflow as tf\n",
    "from sklearn.neural_network import MLPRegressor\n",
    "import matplotlib.pyplot as plt\n",
    "\n",
    "bike = pd.read_csv(\"/Users/apple/Downloads/SupML/Project/Bike-Sharing-Dataset/hour.csv\")\n",
    "bike_new = bike.drop(['instant', 'dteday', 'casual', 'registered'], axis=1)"
   ]
  },
  {
   "cell_type": "code",
   "execution_count": 10,
   "metadata": {
    "collapsed": true
   },
   "outputs": [],
   "source": [
    "def split(X, prop = [0.6,0.2,0.2], shuffle=False):\n",
    "    df_index = np.arange(X.shape[0])\n",
    "    if shuffle==True:\n",
    "        np.random.shuffle(df_index)\n",
    "    cut1 = int(np.floor(X.shape[0]*prop[0]))\n",
    "    cut2 = int(np.floor(X.shape[0]*(prop[0]+prop[1])))\n",
    "    train_index = df_index[:cut1]\n",
    "    val_index = df_index[cut1:cut2]\n",
    "    test_index = df_index[cut2:]\n",
    "    X_train = X.iloc[train_index]\n",
    "    X_val = X.iloc[val_index]\n",
    "    X_test = X.iloc[test_index]\n",
    "    return [X_train, X_val, X_test]"
   ]
  },
  {
   "cell_type": "code",
   "execution_count": 11,
   "metadata": {
    "collapsed": true
   },
   "outputs": [],
   "source": [
    "bike_train, bike_val, bike_test = split(bike_new, [0.6,0.2,0.2])\n",
    "\n",
    "bike_train_X = np.array(bike_train.drop(['cnt'], axis=1))\n",
    "bike_train_Y = np.array(bike_train.loc[:,'cnt'])\n",
    "bike_train_Y.shape = (bike_train_Y.shape[0], 1)\n",
    "\n",
    "bike_val_X = np.array(bike_val.drop(['cnt'], axis=1))\n",
    "bike_val_Y = np.array(bike_val.loc[:,'cnt'])\n",
    "bike_val_Y.shape = (bike_val_Y.shape[0], 1)\n",
    "\n",
    "bike_test_X = np.array(bike_test.drop(['cnt'], axis=1))\n",
    "bike_test_Y = np.array(bike_test.loc[:,'cnt'])\n",
    "bike_test_Y.shape = (bike_test_Y.shape[0], 1)\n"
   ]
  },
  {
   "cell_type": "code",
   "execution_count": 15,
   "metadata": {},
   "outputs": [
    {
     "name": "stdout",
     "output_type": "stream",
     "text": [
      "training:\n",
      "184.441672996\n",
      "183.294072092\n"
     ]
    },
    {
     "ename": "KeyboardInterrupt",
     "evalue": "",
     "output_type": "error",
     "traceback": [
      "\u001b[0;31m---------------------------------------------------------------------------\u001b[0m",
      "\u001b[0;31mKeyboardInterrupt\u001b[0m                         Traceback (most recent call last)",
      "\u001b[0;32m<ipython-input-15-a231d7254587>\u001b[0m in \u001b[0;36m<module>\u001b[0;34m()\u001b[0m\n\u001b[1;32m     78\u001b[0m \u001b[0;34m\u001b[0m\u001b[0m\n\u001b[1;32m     79\u001b[0m                 _, c, p = sess.run([optimizer_1, cost, pred], feed_dict={X: batch_x,\n\u001b[0;32m---> 80\u001b[0;31m                                                           Y: batch_y})\n\u001b[0m\u001b[1;32m     81\u001b[0m             \u001b[0;31m# Compute average loss\u001b[0m\u001b[0;34m\u001b[0m\u001b[0;34m\u001b[0m\u001b[0m\n\u001b[1;32m     82\u001b[0m                 \u001b[0mavg_cost\u001b[0m \u001b[0;34m+=\u001b[0m \u001b[0mc\u001b[0m \u001b[0;34m/\u001b[0m \u001b[0mtotal_batch\u001b[0m\u001b[0;34m\u001b[0m\u001b[0m\n",
      "\u001b[0;32m/anaconda3/lib/python3.6/site-packages/tensorflow/python/client/session.py\u001b[0m in \u001b[0;36mrun\u001b[0;34m(self, fetches, feed_dict, options, run_metadata)\u001b[0m\n\u001b[1;32m    776\u001b[0m     \u001b[0;32mtry\u001b[0m\u001b[0;34m:\u001b[0m\u001b[0;34m\u001b[0m\u001b[0m\n\u001b[1;32m    777\u001b[0m       result = self._run(None, fetches, feed_dict, options_ptr,\n\u001b[0;32m--> 778\u001b[0;31m                          run_metadata_ptr)\n\u001b[0m\u001b[1;32m    779\u001b[0m       \u001b[0;32mif\u001b[0m \u001b[0mrun_metadata\u001b[0m\u001b[0;34m:\u001b[0m\u001b[0;34m\u001b[0m\u001b[0m\n\u001b[1;32m    780\u001b[0m         \u001b[0mproto_data\u001b[0m \u001b[0;34m=\u001b[0m \u001b[0mtf_session\u001b[0m\u001b[0;34m.\u001b[0m\u001b[0mTF_GetBuffer\u001b[0m\u001b[0;34m(\u001b[0m\u001b[0mrun_metadata_ptr\u001b[0m\u001b[0;34m)\u001b[0m\u001b[0;34m\u001b[0m\u001b[0m\n",
      "\u001b[0;32m/anaconda3/lib/python3.6/site-packages/tensorflow/python/client/session.py\u001b[0m in \u001b[0;36m_run\u001b[0;34m(self, handle, fetches, feed_dict, options, run_metadata)\u001b[0m\n\u001b[1;32m    980\u001b[0m     \u001b[0;32mif\u001b[0m \u001b[0mfinal_fetches\u001b[0m \u001b[0;32mor\u001b[0m \u001b[0mfinal_targets\u001b[0m\u001b[0;34m:\u001b[0m\u001b[0;34m\u001b[0m\u001b[0m\n\u001b[1;32m    981\u001b[0m       results = self._do_run(handle, final_targets, final_fetches,\n\u001b[0;32m--> 982\u001b[0;31m                              feed_dict_string, options, run_metadata)\n\u001b[0m\u001b[1;32m    983\u001b[0m     \u001b[0;32melse\u001b[0m\u001b[0;34m:\u001b[0m\u001b[0;34m\u001b[0m\u001b[0m\n\u001b[1;32m    984\u001b[0m       \u001b[0mresults\u001b[0m \u001b[0;34m=\u001b[0m \u001b[0;34m[\u001b[0m\u001b[0;34m]\u001b[0m\u001b[0;34m\u001b[0m\u001b[0m\n",
      "\u001b[0;32m/anaconda3/lib/python3.6/site-packages/tensorflow/python/client/session.py\u001b[0m in \u001b[0;36m_do_run\u001b[0;34m(self, handle, target_list, fetch_list, feed_dict, options, run_metadata)\u001b[0m\n\u001b[1;32m   1030\u001b[0m     \u001b[0;32mif\u001b[0m \u001b[0mhandle\u001b[0m \u001b[0;32mis\u001b[0m \u001b[0;32mNone\u001b[0m\u001b[0;34m:\u001b[0m\u001b[0;34m\u001b[0m\u001b[0m\n\u001b[1;32m   1031\u001b[0m       return self._do_call(_run_fn, self._session, feed_dict, fetch_list,\n\u001b[0;32m-> 1032\u001b[0;31m                            target_list, options, run_metadata)\n\u001b[0m\u001b[1;32m   1033\u001b[0m     \u001b[0;32melse\u001b[0m\u001b[0;34m:\u001b[0m\u001b[0;34m\u001b[0m\u001b[0m\n\u001b[1;32m   1034\u001b[0m       return self._do_call(_prun_fn, self._session, handle, feed_dict,\n",
      "\u001b[0;32m/anaconda3/lib/python3.6/site-packages/tensorflow/python/client/session.py\u001b[0m in \u001b[0;36m_do_call\u001b[0;34m(self, fn, *args)\u001b[0m\n\u001b[1;32m   1037\u001b[0m   \u001b[0;32mdef\u001b[0m \u001b[0m_do_call\u001b[0m\u001b[0;34m(\u001b[0m\u001b[0mself\u001b[0m\u001b[0;34m,\u001b[0m \u001b[0mfn\u001b[0m\u001b[0;34m,\u001b[0m \u001b[0;34m*\u001b[0m\u001b[0margs\u001b[0m\u001b[0;34m)\u001b[0m\u001b[0;34m:\u001b[0m\u001b[0;34m\u001b[0m\u001b[0m\n\u001b[1;32m   1038\u001b[0m     \u001b[0;32mtry\u001b[0m\u001b[0;34m:\u001b[0m\u001b[0;34m\u001b[0m\u001b[0m\n\u001b[0;32m-> 1039\u001b[0;31m       \u001b[0;32mreturn\u001b[0m \u001b[0mfn\u001b[0m\u001b[0;34m(\u001b[0m\u001b[0;34m*\u001b[0m\u001b[0margs\u001b[0m\u001b[0;34m)\u001b[0m\u001b[0;34m\u001b[0m\u001b[0m\n\u001b[0m\u001b[1;32m   1040\u001b[0m     \u001b[0;32mexcept\u001b[0m \u001b[0merrors\u001b[0m\u001b[0;34m.\u001b[0m\u001b[0mOpError\u001b[0m \u001b[0;32mas\u001b[0m \u001b[0me\u001b[0m\u001b[0;34m:\u001b[0m\u001b[0;34m\u001b[0m\u001b[0m\n\u001b[1;32m   1041\u001b[0m       \u001b[0mmessage\u001b[0m \u001b[0;34m=\u001b[0m \u001b[0mcompat\u001b[0m\u001b[0;34m.\u001b[0m\u001b[0mas_text\u001b[0m\u001b[0;34m(\u001b[0m\u001b[0me\u001b[0m\u001b[0;34m.\u001b[0m\u001b[0mmessage\u001b[0m\u001b[0;34m)\u001b[0m\u001b[0;34m\u001b[0m\u001b[0m\n",
      "\u001b[0;32m/anaconda3/lib/python3.6/site-packages/tensorflow/python/client/session.py\u001b[0m in \u001b[0;36m_run_fn\u001b[0;34m(session, feed_dict, fetch_list, target_list, options, run_metadata)\u001b[0m\n\u001b[1;32m   1019\u001b[0m         return tf_session.TF_Run(session, options,\n\u001b[1;32m   1020\u001b[0m                                  \u001b[0mfeed_dict\u001b[0m\u001b[0;34m,\u001b[0m \u001b[0mfetch_list\u001b[0m\u001b[0;34m,\u001b[0m \u001b[0mtarget_list\u001b[0m\u001b[0;34m,\u001b[0m\u001b[0;34m\u001b[0m\u001b[0m\n\u001b[0;32m-> 1021\u001b[0;31m                                  status, run_metadata)\n\u001b[0m\u001b[1;32m   1022\u001b[0m \u001b[0;34m\u001b[0m\u001b[0m\n\u001b[1;32m   1023\u001b[0m     \u001b[0;32mdef\u001b[0m \u001b[0m_prun_fn\u001b[0m\u001b[0;34m(\u001b[0m\u001b[0msession\u001b[0m\u001b[0;34m,\u001b[0m \u001b[0mhandle\u001b[0m\u001b[0;34m,\u001b[0m \u001b[0mfeed_dict\u001b[0m\u001b[0;34m,\u001b[0m \u001b[0mfetch_list\u001b[0m\u001b[0;34m)\u001b[0m\u001b[0;34m:\u001b[0m\u001b[0;34m\u001b[0m\u001b[0m\n",
      "\u001b[0;31mKeyboardInterrupt\u001b[0m: "
     ]
    }
   ],
   "source": [
    "# Gradient descent optimizer\n",
    "tf.set_random_seed(250)\n",
    "seed=142\n",
    "learning_rate_1 = 0.001\n",
    "learning_rate_2 = 0.0001\n",
    "training_epochs = 1400\n",
    "batch_size = 128\n",
    "beta = 5\n",
    "percent = 75\n",
    "\n",
    "X = tf.placeholder(tf.float32, [None, 12], name=\"X\")\n",
    "Y = tf.placeholder(tf.float32, [None, 1], name=\"Y\")\n",
    "\n",
    "total_len = bike_train_X.shape[0]\n",
    "n_input = bike_train_X.shape[1]\n",
    "n_hidden_1 = 20\n",
    "n_hidden_2 = 25\n",
    "n_hidden_3 = 25\n",
    "n_hidden_4 = 20\n",
    "n_output = 1\n",
    "    \n",
    "weights = {\n",
    "    'w1': tf.Variable(tf.random_normal([n_input, n_hidden_1], 0, 0.001, seed=seed)),\n",
    "    'w2': tf.Variable(tf.random_normal([n_hidden_1, n_hidden_2], 0, 0.001, seed=seed)),\n",
    "    'w3': tf.Variable(tf.random_normal([n_hidden_2, n_hidden_3], 0, 0.001, seed=seed)),\n",
    "    'w4': tf.Variable(tf.random_normal([n_hidden_3, n_hidden_4], 0, 0.001, seed=seed)),\n",
    "    'w_out': tf.Variable(tf.random_normal([n_hidden_4, n_output], 0, 0.001, seed=seed))\n",
    "}\n",
    "\n",
    "biases = {\n",
    "    'b1': tf.Variable(tf.random_normal([n_hidden_1], 0, 0.001, seed=seed)),\n",
    "    'b2': tf.Variable(tf.random_normal([n_hidden_2], 0, 0.001, seed=seed)),\n",
    "    'b3': tf.Variable(tf.random_normal([n_hidden_3], 0, 0.001, seed=seed)),\n",
    "    'b4': tf.Variable(tf.random_normal([n_hidden_4], 0, 0.001, seed=seed)),\n",
    "    'b_out': tf.Variable(tf.random_normal([n_output], 0, 0.001, seed=seed))\n",
    "}\n",
    "\n",
    "def deep_nn(X, weights, biases):\n",
    "    \n",
    "    layer_1 = tf.add(tf.matmul(X, weights['w1']), biases['b1'])\n",
    "    layer_1 = tf.nn.relu(layer_1)\n",
    "    \n",
    "    layer_2 = tf.add(tf.matmul(layer_1, weights['w2']), biases['b2'])\n",
    "    layer_2 = tf.nn.relu(layer_2)\n",
    "\n",
    "    layer_3 = tf.add(tf.matmul(layer_2, weights['w3']), biases['b3'])\n",
    "    layer_3 = tf.nn.relu(layer_3)\n",
    "\n",
    "    layer_4 = tf.add(tf.matmul(layer_3, weights['w4']), biases['b4'])\n",
    "    layer_4 = tf.nn.relu(layer_4)\n",
    "\n",
    "    out_layer = tf.matmul(layer_4, weights['w_out']) + biases['b_out']\n",
    "    return out_layer\n",
    "\n",
    "pred = deep_nn(X, weights, biases)\n",
    "\n",
    "reg_losses = tf.get_collection(tf.GraphKeys.REGULARIZATION_LOSSES)\n",
    "cost = tf.sqrt(tf.reduce_mean(tf.square(pred-Y))) + beta * tf.sqrt(tf.reduce_sum(tf.square(reg_losses)))\n",
    "true_cost = tf.sqrt(tf.reduce_mean(tf.square(pred-Y)))\n",
    "optimizer_1 = tf.train.GradientDescentOptimizer(learning_rate=learning_rate_1).minimize(cost)\n",
    "optimizer_2 = tf.train.GradientDescentOptimizer(learning_rate=learning_rate_2).minimize(cost)\n",
    "\n",
    "with tf.Session() as sess:\n",
    "    sess.run(tf.global_variables_initializer())\n",
    "\n",
    "    # Training cycle\n",
    "    print(\"training:\")\n",
    "    \n",
    "    for epoch in range(training_epochs):\n",
    "        avg_cost = 0.\n",
    "        total_batch = int(total_len/batch_size)\n",
    "        # Loop over all batches\n",
    "        if ((epoch*100/training_epochs) < percent):\n",
    "            for i in range(total_batch-1):\n",
    "                batch_x = bike_train_X[i*batch_size:(i+1)*batch_size]\n",
    "                batch_y = bike_train_Y[i*batch_size:(i+1)*batch_size]\n",
    "            # Run optimization op (backprop) and cost op (to get loss value)\n",
    "            \n",
    "                _, c, p = sess.run([optimizer_1, cost, pred], feed_dict={X: batch_x,\n",
    "                                                          Y: batch_y})\n",
    "            # Compute average loss\n",
    "                avg_cost += c / total_batch\n",
    "        else:\n",
    "            for i in range(total_batch-1):\n",
    "                batch_x = bike_train_X[i*batch_size:(i+1)*batch_size]\n",
    "                batch_y = bike_train_Y[i*batch_size:(i+1)*batch_size]\n",
    "            # Run optimization op (backprop) and cost op (to get loss value)\n",
    "            \n",
    "                _, c, p = sess.run([optimizer_2, cost, pred], feed_dict={X: batch_x,\n",
    "                                                          Y: batch_y})\n",
    "                avg_cost += c / total_batch\n",
    "            \n",
    "        if epoch % 25 == 0:\n",
    "            print(avg_cost)\n",
    "    \n",
    "    _, c, train_pred = sess.run([optimizer_1, true_cost, pred], feed_dict={X: bike_train_X,\n",
    "                                                          Y: bike_train_Y})\n",
    "    print(\"Training set:\", c)\n",
    "    \n",
    "    _, c, val_pred = sess.run([optimizer_1, true_cost, pred], feed_dict={X: bike_val_X,\n",
    "                                                          Y: bike_val_Y})\n",
    "    print(\"Validation error:\", c)\n",
    "    \n",
    "    _, c, test_pred = sess.run([optimizer_1, true_cost, pred], feed_dict={X: bike_test_X,\n",
    "                                                          Y: bike_test_Y})\n",
    "    \n",
    "    print(\"Test error:\", c)\n",
    "\n"
   ]
  },
  {
   "cell_type": "code",
   "execution_count": 15,
   "metadata": {},
   "outputs": [
    {
     "name": "stdout",
     "output_type": "stream",
     "text": [
      "Train error for skl model: 134.614377367\n",
      "Validation error for skl model: 246.448758432\n"
     ]
    }
   ],
   "source": [
    "nn_skl = MLPRegressor(hidden_layer_sizes=(30,30,30,30),activation='relu',\n",
    "                     solver = 'sgd', alpha= 0.1, batch_size= 128, learning_rate_init=0.0001, max_iter=500)\n",
    "nn_skl.fit(bike_train_X, np.ravel(bike_train_Y))\n",
    "\n",
    "y_train_pred_skl = nn_skl.predict(X=bike_train_X)\n",
    "y_val_pred_skl = nn_skl.predict(X=bike_val_X)\n",
    "print(\"Train error for skl model:\", str(np.sqrt(np.mean((y_train_pred_skl-bike_train_Y)**2))))\n",
    "print(\"Validation error for skl model:\", str(np.sqrt(np.mean((y_train_pred_skl-bike_val_Y)**2))))"
   ]
  },
  {
   "cell_type": "code",
   "execution_count": 16,
   "metadata": {},
   "outputs": [
    {
     "name": "stdout",
     "output_type": "stream",
     "text": [
      "Test error for skl model: 243.857236364\n"
     ]
    }
   ],
   "source": [
    "y_test_pred_skl = nn_skl.predict(X=bike_test_X)\n",
    "print(\"Test error for skl model:\", str(np.sqrt(np.mean((y_test_pred_skl-bike_test_Y)**2))))"
   ]
  },
  {
   "cell_type": "code",
   "execution_count": 17,
   "metadata": {},
   "outputs": [
    {
     "name": "stdout",
     "output_type": "stream",
     "text": [
      "Exaplained variance for TF model: 0.748166987567\n",
      "Exaplained variance for sklearn model: -1.7763568394e-15\n"
     ]
    }
   ],
   "source": [
    "# Explained variance score for TF GD model\n",
    "print(\"Exaplained variance for TF GD model: \", end=\"\")\n",
    "print(1 - (np.var(bike_test_Y - test_pred)/np.var(bike_test_Y)))\n",
    "# Explained variance score for sklearn model\n",
    "print(\"Exaplained variance for sklearn model: \", end=\"\")\n",
    "print(1 - (np.var(bike_test_Y - y_test_pred_skl)/np.var(bike_test_Y)))"
   ]
  },
  {
   "cell_type": "code",
   "execution_count": 19,
   "metadata": {},
   "outputs": [
    {
     "name": "stdout",
     "output_type": "stream",
     "text": [
      "training:\n",
      "136.086154985\n",
      "110.462037263\n",
      "111.039097256\n",
      "107.487136794\n",
      "90.6258015574\n",
      "84.3991068145\n",
      "84.0118870205\n",
      "84.2523394455\n",
      "76.0717637333\n",
      "66.7290173519\n",
      "56.4973723565\n",
      "51.8107666675\n",
      "51.2634845074\n",
      "46.581377571\n",
      "46.4921313156\n",
      "43.6744221817\n",
      "42.8883053344\n",
      "42.6553045202\n",
      "44.3981017831\n",
      "45.1742709595\n",
      "43.6103914049\n",
      "42.8187825945\n",
      "42.2070944044\n",
      "41.7050616182\n",
      "41.2798692915\n",
      "40.8854961631\n",
      "40.5817648805\n",
      "40.334003213\n",
      "Training set: 42.7088\n",
      "Validation error: 101.814\n",
      "Test error: 113.681\n"
     ]
    }
   ],
   "source": [
    "# Adam optimizer\n",
    "tf.set_random_seed(250)\n",
    "seed=142\n",
    "learning_rate_1 = 0.01\n",
    "learning_rate_2 = 0.0001\n",
    "training_epochs = 700\n",
    "batch_size = 128\n",
    "beta = 5\n",
    "percent = 65\n",
    "\n",
    "X = tf.placeholder(tf.float32, [None, 12], name=\"X\")\n",
    "Y = tf.placeholder(tf.float32, [None, 1], name=\"Y\")\n",
    "\n",
    "total_len = bike_train_X.shape[0]\n",
    "n_input = bike_train_X.shape[1]\n",
    "n_hidden_1 = 20\n",
    "n_hidden_2 = 20\n",
    "n_hidden_3 = 20\n",
    "n_hidden_4 = 20\n",
    "n_output = 1\n",
    "    \n",
    "weights = {\n",
    "    'w1': tf.Variable(tf.random_normal([n_input, n_hidden_1], 0, 0.001, seed=seed)),\n",
    "    'w2': tf.Variable(tf.random_normal([n_hidden_1, n_hidden_2], 0, 0.001, seed=seed)),\n",
    "    'w3': tf.Variable(tf.random_normal([n_hidden_2, n_hidden_3], 0, 0.001, seed=seed)),\n",
    "    'w4': tf.Variable(tf.random_normal([n_hidden_3, n_hidden_4], 0, 0.001, seed=seed)),\n",
    "    'w_out': tf.Variable(tf.random_normal([n_hidden_4, n_output], 0, 0.001, seed=seed))\n",
    "}\n",
    "\n",
    "biases = {\n",
    "    'b1': tf.Variable(tf.random_normal([n_hidden_1], 0, 0.001, seed=seed)),\n",
    "    'b2': tf.Variable(tf.random_normal([n_hidden_2], 0, 0.001, seed=seed)),\n",
    "    'b3': tf.Variable(tf.random_normal([n_hidden_3], 0, 0.001, seed=seed)),\n",
    "    'b4': tf.Variable(tf.random_normal([n_hidden_4], 0, 0.001, seed=seed)),\n",
    "    'b_out': tf.Variable(tf.random_normal([n_output], 0, 0.001, seed=seed))\n",
    "}\n",
    "\n",
    "def deep_nn(X, weights, biases):\n",
    "    \n",
    "    layer_1 = tf.add(tf.matmul(X, weights['w1']), biases['b1'])\n",
    "    layer_1 = tf.nn.relu(layer_1)\n",
    "    \n",
    "    layer_2 = tf.add(tf.matmul(layer_1, weights['w2']), biases['b2'])\n",
    "    layer_2 = tf.nn.relu(layer_2)\n",
    "\n",
    "    layer_3 = tf.add(tf.matmul(layer_2, weights['w3']), biases['b3'])\n",
    "    layer_3 = tf.nn.relu(layer_3)\n",
    "\n",
    "    layer_4 = tf.add(tf.matmul(layer_3, weights['w4']), biases['b4'])\n",
    "    layer_4 = tf.nn.relu(layer_4)\n",
    "\n",
    "    out_layer = tf.matmul(layer_4, weights['w_out']) + biases['b_out']\n",
    "    return out_layer\n",
    "\n",
    "pred = deep_nn(X, weights, biases)\n",
    "\n",
    "reg_losses = tf.get_collection(tf.GraphKeys.REGULARIZATION_LOSSES)\n",
    "cost = tf.sqrt(tf.reduce_mean(tf.square(pred-Y))) + beta * tf.sqrt(tf.reduce_sum(tf.square(reg_losses)))\n",
    "true_cost = tf.sqrt(tf.reduce_mean(tf.square(pred-Y)))\n",
    "optimizer_1 = tf.train.AdamOptimizer(learning_rate=learning_rate_1).minimize(cost)\n",
    "optimizer_2 = tf.train.AdamOptimizer(learning_rate=learning_rate_2).minimize(cost)\n",
    "\n",
    "with tf.Session() as sess:\n",
    "    sess.run(tf.global_variables_initializer())\n",
    "\n",
    "    # Training cycle\n",
    "    print(\"training:\")\n",
    "    \n",
    "    for epoch in range(training_epochs):\n",
    "        avg_cost = 0.\n",
    "        total_batch = int(total_len/batch_size)\n",
    "        # Loop over all batches\n",
    "        if ((epoch*100/training_epochs) < percent):\n",
    "            for i in range(total_batch-1):\n",
    "                batch_x = bike_train_X[i*batch_size:(i+1)*batch_size]\n",
    "                batch_y = bike_train_Y[i*batch_size:(i+1)*batch_size]\n",
    "            # Run optimization op (backprop) and cost op (to get loss value)\n",
    "            \n",
    "                _, c, p = sess.run([optimizer_1, cost, pred], feed_dict={X: batch_x,\n",
    "                                                          Y: batch_y})\n",
    "            # Compute average loss\n",
    "                avg_cost += c / total_batch\n",
    "        else:\n",
    "            for i in range(total_batch-1):\n",
    "                batch_x = bike_train_X[i*batch_size:(i+1)*batch_size]\n",
    "                batch_y = bike_train_Y[i*batch_size:(i+1)*batch_size]\n",
    "            # Run optimization op (backprop) and cost op (to get loss value)\n",
    "            \n",
    "                _, c, p = sess.run([optimizer_2, cost, pred], feed_dict={X: batch_x,\n",
    "                                                          Y: batch_y})\n",
    "                avg_cost += c / total_batch\n",
    "            \n",
    "        if epoch % 25 == 0:\n",
    "            print(avg_cost)\n",
    "    \n",
    "    _, c, train_pred = sess.run([optimizer_1, true_cost, pred], feed_dict={X: bike_train_X,\n",
    "                                                          Y: bike_train_Y})\n",
    "    print(\"Training set:\", c)\n",
    "    \n",
    "    _, c, val_pred = sess.run([optimizer_1, true_cost, pred], feed_dict={X: bike_val_X,\n",
    "                                                          Y: bike_val_Y})\n",
    "    print(\"Validation error:\", c)\n",
    "    \n",
    "    _, c, test_pred = sess.run([optimizer_1, true_cost, pred], feed_dict={X: bike_test_X,\n",
    "                                                          Y: bike_test_Y})\n",
    "    \n",
    "    print(\"Test error:\", c)\n",
    "\n",
    "\n"
   ]
  },
  {
   "cell_type": "code",
   "execution_count": 20,
   "metadata": {},
   "outputs": [
    {
     "name": "stdout",
     "output_type": "stream",
     "text": [
      "Exaplained variance for TF Adam model: 0.755330183434\n",
      "Exaplained variance for sklearn model: -1.7763568394e-15\n"
     ]
    }
   ],
   "source": [
    "# Explained variance score for TF Adam model\n",
    "print(\"Exaplained variance for TF Adam model: \", end=\"\")\n",
    "print(1 - (np.var(bike_test_Y - test_pred)/np.var(bike_test_Y)))\n",
    "# Explained variance score for sklearn model\n",
    "print(\"Exaplained variance for sklearn model: \", end=\"\")\n",
    "print(1 - (np.var(bike_test_Y - y_test_pred_skl)/np.var(bike_test_Y)))"
   ]
  },
  {
   "cell_type": "code",
   "execution_count": null,
   "metadata": {
    "collapsed": true
   },
   "outputs": [],
   "source": []
  }
 ],
 "metadata": {
  "kernelspec": {
   "display_name": "Python 3",
   "language": "python",
   "name": "python3"
  },
  "language_info": {
   "codemirror_mode": {
    "name": "ipython",
    "version": 3
   },
   "file_extension": ".py",
   "mimetype": "text/x-python",
   "name": "python",
   "nbconvert_exporter": "python",
   "pygments_lexer": "ipython3",
   "version": "3.6.2"
  }
 },
 "nbformat": 4,
 "nbformat_minor": 2
}

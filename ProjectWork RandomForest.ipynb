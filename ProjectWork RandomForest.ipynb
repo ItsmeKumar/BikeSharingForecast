{
 "cells": [
  {
   "cell_type": "code",
   "execution_count": null,
   "metadata": {
    "collapsed": true
   },
   "outputs": [],
   "source": [
    "import numpy as np\n",
    "import pandas as pd\n",
    "import tensorflow as tf\n",
    "from sklearn.ensemble import RandomForestRegressor\n",
    "import matplotlib.pyplot as plt\n",
    "\n",
    "bike = pd.read_csv(\"/Users/apple/Downloads/SupML/Project/Bike-Sharing-Dataset/hour.csv\")\n",
    "bike['Date'] = bike['dteday'].astype(str) + \"-\" + bike['hr'].astype(str)\n",
    "bike['Date'] = pd.to_datetime(bike['Date'], format = \"%Y-%m-%d-%H\")\n",
    "\n",
    "bike_new = bike.drop(['instant', 'dteday', 'casual', 'registered', 'Date'], axis=1)"
   ]
  },
  {
   "cell_type": "code",
   "execution_count": null,
   "metadata": {
    "collapsed": true
   },
   "outputs": [],
   "source": [
    "def split(X, prop = [0.6,0.2,0.2], shuffle=False):\n",
    "    df_index = np.arange(X.shape[0])\n",
    "    if shuffle==True:\n",
    "        np.random.shuffle(df_index)\n",
    "    cut1 = int(np.floor(X.shape[0]*prop[0]))\n",
    "    cut2 = int(np.floor(X.shape[0]*(prop[0]+prop[1])))\n",
    "    train_index = df_index[:cut1]\n",
    "    val_index = df_index[cut1:cut2]\n",
    "    test_index = df_index[cut2:]\n",
    "    X_train = X.iloc[train_index]\n",
    "    X_val = X.iloc[val_index]\n",
    "    X_test = X.iloc[test_index]\n",
    "    return [X_train, X_val, X_test]"
   ]
  },
  {
   "cell_type": "code",
   "execution_count": null,
   "metadata": {
    "collapsed": true
   },
   "outputs": [],
   "source": [
    "bike_train, bike_val, bike_test = split(bike_new, [0.6,0.2,0.2])\n",
    "\n",
    "bike_train_X = np.array(bike_train.drop(['cnt'], axis=1))\n",
    "bike_train_Y = np.array(bike_train.loc[:,'cnt'])\n",
    "\n",
    "bike_val_X = np.array(bike_val.drop(['cnt'], axis=1))\n",
    "bike_val_Y = np.array(bike_val.loc[:,'cnt'])\n",
    "\n",
    "bike_test_X = np.array(bike_test.drop(['cnt'], axis=1))\n",
    "bike_test_Y = np.array(bike_test.loc[:,'cnt'])\n"
   ]
  },
  {
   "cell_type": "code",
   "execution_count": null,
   "metadata": {},
   "outputs": [],
   "source": [
    "for crit in [\"mse\",\"mae\"]:\n",
    "    print(\"criterion:\", crit)\n",
    "    rf = RandomForestRegressor(n_estimators = 10, criterion=crit, max_features= 12,random_state = 42)\n",
    "    rf.fit(bike_train_X, bike_train_Y)\n",
    "    \n",
    "    y_train_pred = np.round(rf.predict(bike_train_X))\n",
    "    train_error = np.sqrt(np.mean((bike_train_Y-y_train_pred)**2))\n",
    "    print(\"Train Error:\", train_error)\n",
    "\n",
    "    y_val_pred = np.round(rf.predict(bike_val_X))\n",
    "    val_error = np.sqrt(np.mean((bike_val_Y-y_val_pred)**2))\n",
    "    print(\"Validation Error:\", val_error)\n",
    "    print(\"-------------------------------------------------\")"
   ]
  },
  {
   "cell_type": "code",
   "execution_count": null,
   "metadata": {
    "collapsed": true
   },
   "outputs": [],
   "source": [
    "for max_f in [6, 8, 10, 12]:\n",
    "    print(\"Maximum features:\", max_f)\n",
    "    rf = RandomForestRegressor(n_estimators = 100, criterion=\"mse\", max_features= max_f,random_state = 42)\n",
    "    rf.fit(bike_train_X, bike_train_Y)\n",
    "    \n",
    "    y_train_pred = np.round(rf.predict(bike_train_X))\n",
    "    train_error = np.sqrt(np.mean((bike_train_Y-y_train_pred)**2))\n",
    "    print(\"Train Error:\", train_error)\n",
    "\n",
    "    y_val_pred = np.round(rf.predict(bike_val_X))\n",
    "    val_error = np.sqrt(np.mean((bike_val_Y-y_val_pred)**2))\n",
    "    print(\"Validation Error:\", val_error)\n",
    "    print(\"-------------------------------------------------\")"
   ]
  },
  {
   "cell_type": "code",
   "execution_count": null,
   "metadata": {},
   "outputs": [],
   "source": [
    "for n_est in [10,30,50,100,500,1000]:\n",
    "    print(\"number of trees:\", n_est)\n",
    "    rf = RandomForestRegressor(n_estimators = n_est, criterion=\"mse\", max_features= 12,random_state = 42)\n",
    "    rf.fit(bike_train_X, bike_train_Y)\n",
    "    \n",
    "    y_train_pred = np.round(rf.predict(bike_train_X))\n",
    "    train_error = np.sqrt(np.mean((bike_train_Y-y_train_pred)**2))\n",
    "    print(\"Train Error:\", train_error)\n",
    "\n",
    "    y_val_pred = np.round(rf.predict(bike_val_X))\n",
    "    val_error = np.sqrt(np.mean((bike_val_Y-y_val_pred)**2))\n",
    "    print(\"Validation Error:\", val_error)\n",
    "    print(\"-------------------------------------------------\")"
   ]
  },
  {
   "cell_type": "code",
   "execution_count": null,
   "metadata": {},
   "outputs": [],
   "source": [
    "# Optimized hyperparameters\n",
    "rf = RandomForestRegressor(n_estimators = 500, criterion=\"mse\", max_features= 12,random_state = 42)\n",
    "rf.fit(bike_train_X, bike_train_Y)\n",
    "\n",
    "y_train_pred = np.round(rf.predict(bike_train_X))\n",
    "train_error = np.sqrt(np.mean((bike_train_Y-y_train_pred)**2))\n",
    "print(\"Train Error:\", train_error)\n",
    "\n",
    "y_val_pred = np.round(rf.predict(bike_val_X))\n",
    "val_error = np.sqrt(np.mean((bike_val_Y-y_val_pred)**2))\n",
    "print(\"Validation Error:\", val_error)\n",
    "\n",
    "y_test_pred = np.round(rf.predict(bike_test_X))\n",
    "test_error = np.sqrt(np.mean((bike_test_Y-y_test_pred)**2))\n",
    "print(\"Test Error:\", test_error)"
   ]
  },
  {
   "cell_type": "code",
   "execution_count": null,
   "metadata": {},
   "outputs": [],
   "source": [
    "# Explained variance score for randomforest model\n",
    "print(\"Exaplained variance for randomforest model: \", end=\"\")\n",
    "print(1 - (np.var(bike_test_Y - y_test_pred)/np.var(bike_test_Y)))"
   ]
  },
  {
   "cell_type": "code",
   "execution_count": null,
   "metadata": {},
   "outputs": [],
   "source": [
    "plt.plot(bike.loc[:,\"Date\"], bike.loc[:,\"cnt\"])\n",
    "\n",
    "plt.xticks(rotation=90)\n",
    "plt.ylabel(\"Count\")\n",
    "plt.title(\"Count by Date\")\n",
    "plt.show()"
   ]
  },
  {
   "cell_type": "code",
   "execution_count": null,
   "metadata": {},
   "outputs": [],
   "source": [
    "# Train Data\n",
    "plt.plot(bike.loc[bike_train.index,\"Date\"], bike_train_Y)\n",
    "plt.plot(bike.loc[bike_train.index,\"Date\"], y_train_pred)\n",
    "plt.xlabel(\"Date\")\n",
    "plt.ylabel(\"Count\")\n",
    "plt.title(\"Actual vs Predicted: Train\")\n",
    "plt.show()"
   ]
  },
  {
   "cell_type": "code",
   "execution_count": null,
   "metadata": {},
   "outputs": [],
   "source": [
    "# Validation Data\n",
    "plt.plot(bike.loc[bike_val.index,\"Date\"], bike_val_Y)\n",
    "plt.plot(bike.loc[bike_val.index,\"Date\"], y_val_pred)\n",
    "plt.xlabel(\"Date\")\n",
    "plt.ylabel(\"Count\")\n",
    "plt.title(\"Actual vs Predicted: Validation\")\n",
    "plt.show()"
   ]
  },
  {
   "cell_type": "code",
   "execution_count": null,
   "metadata": {},
   "outputs": [],
   "source": [
    "# Test Data\n",
    "plt.plot(bike.loc[bike_test.index,\"Date\"], bike_test_Y)\n",
    "plt.plot(bike.loc[bike_test.index,\"Date\"], y_test_pred)\n",
    "plt.xlabel(\"Date\")\n",
    "plt.ylabel(\"Count\")\n",
    "plt.title(\"Actual vs Predicted: Test\")\n",
    "plt.show()"
   ]
  },
  {
   "cell_type": "code",
   "execution_count": null,
   "metadata": {},
   "outputs": [],
   "source": [
    "# Variable importance\n",
    "\n",
    "importances = list(rf.feature_importances_)\n",
    "feature_list = list(bike_train.columns.values)\n",
    "\n",
    "feature_importances = [(feature, float(round(importance, 3))) for feature, importance in zip(feature_list, importances)]\n",
    "feature_importances = sorted(feature_importances, key = lambda x: x[1], reverse = True)\n",
    "\n",
    "x_values = list(range(len(importances)))\n",
    "plt.bar(x_values, importances, orientation = 'vertical')\n",
    "plt.xticks(x_values, feature_list, rotation='vertical')\n",
    "plt.ylabel('Importance'); plt.xlabel('Variable'); \n",
    "plt.title('Variable Importances');\n",
    "plt.show()"
   ]
  },
  {
   "cell_type": "code",
   "execution_count": null,
   "metadata": {
    "collapsed": true
   },
   "outputs": [],
   "source": []
  }
 ],
 "metadata": {
  "kernelspec": {
   "display_name": "Python 3",
   "language": "python",
   "name": "python3"
  },
  "language_info": {
   "codemirror_mode": {
    "name": "ipython",
    "version": 3
   },
   "file_extension": ".py",
   "mimetype": "text/x-python",
   "name": "python",
   "nbconvert_exporter": "python",
   "pygments_lexer": "ipython3",
   "version": "3.6.2"
  }
 },
 "nbformat": 4,
 "nbformat_minor": 2
}

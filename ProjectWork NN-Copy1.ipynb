{
 "cells": [
  {
   "cell_type": "code",
   "execution_count": 13,
   "metadata": {
    "collapsed": true
   },
   "outputs": [],
   "source": [
    "import numpy as np\n",
    "import pandas as pd\n",
    "import tensorflow as tf\n",
    "import matplotlib.pyplot as plt\n",
    "\n",
    "bike = pd.read_csv(\"/Users/apple/Downloads/SupML/Project/Bike-Sharing-Dataset/hour.csv\")\n",
    "bike['Date'] = bike['dteday'].astype(str) + \"-\" + bike['hr'].astype(str)\n",
    "bike['Date'] = pd.to_datetime(bike['Date'], format = \"%Y-%m-%d-%H\")\n",
    "\n",
    "bike_new = bike.drop(['instant', 'dteday', 'casual', 'registered', 'Date'], axis=1)"
   ]
  },
  {
   "cell_type": "code",
   "execution_count": 6,
   "metadata": {
    "collapsed": true
   },
   "outputs": [],
   "source": [
    "def split(X, prop = [0.6,0.2,0.2], shuffle=False):\n",
    "    df_index = np.arange(X.shape[0])\n",
    "    if shuffle==True:\n",
    "        np.random.shuffle(df_index)\n",
    "    cut1 = int(np.floor(X.shape[0]*prop[0]))\n",
    "    cut2 = int(np.floor(X.shape[0]*(prop[0]+prop[1])))\n",
    "    train_index = df_index[:cut1]\n",
    "    val_index = df_index[cut1:cut2]\n",
    "    test_index = df_index[cut2:]\n",
    "    X_train = X.iloc[train_index]\n",
    "    X_val = X.iloc[val_index]\n",
    "    X_test = X.iloc[test_index]\n",
    "    return [X_train, X_val, X_test]"
   ]
  },
  {
   "cell_type": "code",
   "execution_count": 8,
   "metadata": {},
   "outputs": [],
   "source": [
    "bike_train, bike_val, bike_test = split(bike_new, [0.6,0.2,0.2])\n",
    "\n",
    "bike_train_X = np.array(bike_train.drop(['cnt'], axis=1))\n",
    "bike_train_Y = np.array(bike_train.loc[:,'cnt'])\n",
    "bike_train_Y.shape = (bike_train_Y.shape[0], 1)\n",
    "\n",
    "bike_val_X = np.array(bike_val.drop(['cnt'], axis=1))\n",
    "bike_val_Y = np.array(bike_val.loc[:,'cnt'])\n",
    "bike_val_Y.shape = (bike_val_Y.shape[0], 1)\n",
    "\n",
    "bike_test_X = np.array(bike_test.drop(['cnt'], axis=1))\n",
    "bike_test_Y = np.array(bike_test.loc[:,'cnt'])\n",
    "bike_test_Y.shape = (bike_test_Y.shape[0], 1)\n"
   ]
  },
  {
   "cell_type": "code",
   "execution_count": 25,
   "metadata": {},
   "outputs": [
    {
     "name": "stdout",
     "output_type": "stream",
     "text": [
      "training:\n",
      "174.230899494\n",
      "Training set: 132.687\n",
      "Validation error: 251.627\n"
     ]
    }
   ],
   "source": [
    "learning_rate = 0.0015\n",
    "training_epochs = 10\n",
    "batch_size = 10\n",
    "beta = 1\n",
    "\n",
    "X = tf.placeholder(tf.float32, [None, 12], name=\"X\")\n",
    "Y = tf.placeholder(tf.float32, [None, 1], name=\"Y\")\n",
    "\n",
    "total_len = bike_train_X.shape[0]\n",
    "n_input = bike_train_X.shape[1]\n",
    "n_hidden_1 = 10\n",
    "n_hidden_2 = 20\n",
    "n_hidden_3 = 25\n",
    "n_hidden_4 = 20\n",
    "n_output = 1\n",
    "    \n",
    "weights = {\n",
    "    'w1': tf.Variable(tf.random_normal([n_input, n_hidden_1], 0, 0.001)),\n",
    "    'w2': tf.Variable(tf.random_normal([n_hidden_1, n_hidden_2], 0, 0.001)),\n",
    "    'w3': tf.Variable(tf.random_normal([n_hidden_2, n_hidden_3], 0, 0.001)),\n",
    "    'w4': tf.Variable(tf.random_normal([n_hidden_3, n_hidden_4], 0, 0.001)),\n",
    "    'w_out': tf.Variable(tf.random_normal([n_hidden_4, n_output], 0, 0.001))\n",
    "}\n",
    "\n",
    "biases = {\n",
    "    'b1': tf.Variable(tf.random_normal([n_hidden_1], 0, 0.001)),\n",
    "    'b2': tf.Variable(tf.random_normal([n_hidden_2], 0, 0.001)),\n",
    "    'b3': tf.Variable(tf.random_normal([n_hidden_3], 0, 0.001)),\n",
    "    'b4': tf.Variable(tf.random_normal([n_hidden_4], 0, 0.001)),\n",
    "    'b_out': tf.Variable(tf.random_normal([n_output], 0, 0.001))\n",
    "}\n",
    "\n",
    "def deep_nn(X, weights, biases):\n",
    "    \n",
    "    layer_1 = tf.add(tf.matmul(X, weights['w1']), biases['b1'])\n",
    "    layer_1 = tf.nn.relu(layer_1)\n",
    "    \n",
    "    layer_2 = tf.add(tf.matmul(layer_1, weights['w2']), biases['b2'])\n",
    "    layer_2 = tf.nn.relu(layer_2)\n",
    "\n",
    "    layer_3 = tf.add(tf.matmul(layer_2, weights['w3']), biases['b3'])\n",
    "    layer_3 = tf.nn.relu(layer_3)\n",
    "\n",
    "    layer_4 = tf.add(tf.matmul(layer_3, weights['w4']), biases['b4'])\n",
    "    layer_4 = tf.nn.relu(layer_4)\n",
    "\n",
    "    out_layer = tf.matmul(layer_4, weights['w_out']) + biases['b_out']\n",
    "    return out_layer\n",
    "\n",
    "pred = deep_nn(X, weights, biases)\n",
    "\n",
    "\n",
    "reg_losses = tf.get_collection(tf.GraphKeys.REGULARIZATION_LOSSES)\n",
    "cost = tf.sqrt(tf.reduce_mean(tf.square(pred-Y))) + beta * sum(reg_losses)\n",
    "true_cost = tf.sqrt(tf.reduce_mean(tf.square(pred-Y)))\n",
    "optimizer = tf.train.GradientDescentOptimizer(learning_rate=learning_rate).minimize(cost)\n",
    "\n",
    "\n",
    "with tf.Session() as sess:\n",
    "    sess.run(tf.global_variables_initializer())\n",
    "\n",
    "    # Training cycle\n",
    "    print(\"training:\")\n",
    "    for epoch in range(training_epochs):\n",
    "        avg_cost = 0.\n",
    "        total_batch = int(total_len/batch_size)\n",
    "        # Loop over all batches\n",
    "        for i in range(total_batch-1):\n",
    "            batch_x = bike_train_X[i*batch_size:(i+1)*batch_size]\n",
    "            batch_y = bike_train_Y[i*batch_size:(i+1)*batch_size]\n",
    "            # Run optimization op (backprop) and cost op (to get loss value)\n",
    "            _, c, p = sess.run([optimizer, cost, pred], feed_dict={X: batch_x,\n",
    "                                                          Y: batch_y})\n",
    "            # Compute average loss\n",
    "            avg_cost += c / total_batch\n",
    "        if epoch % 10 == 0:\n",
    "            print(avg_cost)\n",
    "    \n",
    "    _, c, train_pred = sess.run([optimizer, true_cost, pred], feed_dict={X: bike_train_X,\n",
    "                                                          Y: bike_train_Y})\n",
    "    print(\"Training set:\", c)\n",
    "    \n",
    "    _, c, val_pred = sess.run([optimizer, true_cost, pred], feed_dict={X: bike_val_X,\n",
    "                                                          Y: bike_val_Y})\n",
    "    print(\"Validation error:\", c)\n",
    "    \n",
    "    _, c, test_pred = sess.run([optimizer, true_cost, pred], feed_dict={X: bike_test_X,\n",
    "                                                          Y: bike_test_Y})\n",
    "    \n",
    "    # print(\"Test error:\", c)\n",
    "\n"
   ]
  },
  {
   "cell_type": "code",
   "execution_count": 26,
   "metadata": {},
   "outputs": [
    {
     "data": {
      "image/png": "[encoded data removed]",
      "text/plain": [
       "<matplotlib.figure.Figure at 0x125381240>"
      ]
     },
     "metadata": {},
     "output_type": "display_data"
    }
   ],
   "source": [
    "plt.plot(bike.loc[bike_test.index,\"Date\"], bike_val_Y)\n",
    "plt.plot(bike.loc[bike_test.index,\"Date\"], val_pred)\n",
    "plt.show()"
   ]
  },
  {
   "cell_type": "code",
   "execution_count": null,
   "metadata": {
    "collapsed": true
   },
   "outputs": [],
   "source": []
  }
 ],
 "metadata": {
  "kernelspec": {
   "display_name": "Python 3",
   "language": "python",
   "name": "python3"
  },
  "language_info": {
   "codemirror_mode": {
    "name": "ipython",
    "version": 3
   },
   "file_extension": ".py",
   "mimetype": "text/x-python",
   "name": "python",
   "nbconvert_exporter": "python",
   "pygments_lexer": "ipython3",
   "version": "3.6.2"
  }
 },
 "nbformat": 4,
 "nbformat_minor": 2
}
